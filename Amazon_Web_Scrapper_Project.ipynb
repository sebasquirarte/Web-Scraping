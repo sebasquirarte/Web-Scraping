{
 "cells": [
  {
   "cell_type": "code",
   "execution_count": 1,
   "id": "59357923",
   "metadata": {},
   "outputs": [],
   "source": [
    "# Import libraries \n",
    "\n",
    "from bs4 import BeautifulSoup\n",
    "import requests\n",
    "import time\n",
    "import datetime"
   ]
  },
  {
   "cell_type": "code",
   "execution_count": 2,
   "id": "64d842fe",
   "metadata": {},
   "outputs": [
    {
     "name": "stdout",
     "output_type": "stream",
     "text": [
      "MIL534 | Chocolate BLANCO CON PIMIENTA ROSA barra de 90grs | Chocolate Natural elaborado de forma Artesanal con Cacao Sustentable | Libre de Gluten\n",
      "119.00\n"
     ]
    }
   ],
   "source": [
    "# Connect to website \n",
    "\n",
    "url = 'https://www.amazon.com.mx/Chocolate-BLANCO-PIMIENTA-barra-90grs/dp/B08CGPRP57/ref=sr_1_1_sspa?crid=2Q34VYGR1PXO9&keywords=barra+chocolate&qid=1668360973&qu=eyJxc2MiOiIzLjg3IiwicXNhIjoiMi45NSIsInFzcCI6IjAuMDAifQ%3D%3D&sprefix=%2Caps%2C128&sr=8-1-spons&sp_csd=d2lkZ2V0TmFtZT1zcF9hdGY&psc=1'\n",
    "# Add your own personal User-Agent, find at https://httpbin.org/get\n",
    "headers = {\"User-Agent\": \"Mozilla/5.0 (Macintosh; Intel Mac OS X 10_15_7) AppleWebKit/537.36 (KHTML, like Gecko) Chrome/78.0.3904.108 Safari/537.36\", \"Accept-Encoding\":\"gzip, deflate\", \"Accept\":\"text/html,application/xhtml+xml,application/xml;q=0.9,*/*;q=0.8\", \"DNT\":\"1\",\"Connection\":\"close\", \"Upgrade-Insecure-Requests\":\"1\"}\n",
    "page = requests.get(url, headers = headers)\n",
    "\n",
    "# Get raw html \n",
    "page_html = BeautifulSoup(page.content, 'html.parser')\n",
    "#print(page_html_1)\n",
    "\n",
    "# Get formatted html \n",
    "#page_html_2 = BeautifulSoup(page_html_1.prettify(), \"html.parser\")\n",
    "#print(page_html_2)\n",
    "\n",
    "# Find title and price of product \n",
    "title = page_html.find(id='productTitle').get_text()\n",
    "title = title.strip()\n",
    "price_whole = page_html.find('span', class_ = 'a-price-whole').get_text()\n",
    "price_decimal = page_html.find('span', class_ = 'a-price-fraction').get_text()\n",
    "price = price_whole + price_decimal\n",
    "\n",
    "print(title)\n",
    "print(price)"
   ]
  },
  {
   "cell_type": "code",
   "execution_count": 3,
   "id": "5ec77751",
   "metadata": {},
   "outputs": [],
   "source": [
    "# Create date stamp \n",
    "\n",
    "import datetime \n",
    "\n",
    "today = datetime.date.today()"
   ]
  },
  {
   "cell_type": "code",
   "execution_count": 4,
   "id": "90f562cb",
   "metadata": {},
   "outputs": [],
   "source": [
    "# Export as csv \n",
    "\n",
    "import csv \n",
    "\n",
    "header = ['Product', 'Price', 'Date']\n",
    "data = [title, price, today]\n",
    "\n",
    "with open('AmazonDataset.csv', 'w', newline = '', encoding = 'UTF8') as f:\n",
    "    writer = csv.writer(f)\n",
    "    writer.writerow(header)\n",
    "    writer.writerow(data)"
   ]
  },
  {
   "cell_type": "code",
   "execution_count": null,
   "id": "44e53527",
   "metadata": {},
   "outputs": [],
   "source": [
    "# Create and visualize dataframe \n",
    "\n",
    "import pandas as pd\n",
    "\n",
    "df = pd.read_csv(r'/Users/sebas/Desktop/programs/web_scrapping/Amazon_WebScrapper/AmazonDataset.csv')\n",
    "\n",
    "print(df)\n"
   ]
  },
  {
   "cell_type": "code",
   "execution_count": null,
   "id": "38d0fa21",
   "metadata": {},
   "outputs": [],
   "source": [
    "# Append data to csv \n",
    "\n",
    "with open('AmazonDataset.csv', 'a+', newline = '', encoding = 'UTF8') as f:\n",
    "    writer = csv.writer(f)\n",
    "    writer.writerow(data)"
   ]
  },
  {
   "cell_type": "code",
   "execution_count": null,
   "id": "15afd5f2",
   "metadata": {},
   "outputs": [],
   "source": [
    "# Check price function \n",
    "\n",
    "def check_price():\n",
    "    url = 'https://www.amazon.com.mx/Chocolate-BLANCO-PIMIENTA-barra-90grs/dp/B08CGPRP57/ref=sr_1_1_sspa?crid=2Q34VYGR1PXO9&keywords=barra+chocolate&qid=1668360973&qu=eyJxc2MiOiIzLjg3IiwicXNhIjoiMi45NSIsInFzcCI6IjAuMDAifQ%3D%3D&sprefix=%2Caps%2C128&sr=8-1-spons&sp_csd=d2lkZ2V0TmFtZT1zcF9hdGY&psc=1'\n",
    "    # Add your own personal User-Agent, find at https://httpbin.org/get\n",
    "    headers = {\"User-Agent\": \"Mozilla/5.0 (Macintosh; Intel Mac OS X 10_15_7) AppleWebKit/537.36 (KHTML, like Gecko) Chrome/78.0.3904.108 Safari/537.36\", \"Accept-Encoding\":\"gzip, deflate\", \"Accept\":\"text/html,application/xhtml+xml,application/xml;q=0.9,*/*;q=0.8\", \"DNT\":\"1\",\"Connection\":\"close\", \"Upgrade-Insecure-Requests\":\"1\"}\n",
    "    page = requests.get(url, headers = headers)\n",
    "\n",
    "    # Get raw html \n",
    "    page_html = BeautifulSoup(page.content, 'html.parser')\n",
    "    #print(page_html_1)\n",
    "\n",
    "    # Get formatted html \n",
    "    #page_html_2 = BeautifulSoup(page_html_1.prettify(), \"html.parser\")\n",
    "    #print(page_html_2)\n",
    "    \n",
    "    # Find title and price of product \n",
    "    title = page_html.find(id='productTitle').get_text()\n",
    "    title = title.strip()\n",
    "    price_whole = page_html.find('span', class_ = 'a-price-whole').get_text()\n",
    "    price_decimal = page_html.find('span', class_ = 'a-price-fraction').get_text()\n",
    "    price = price_whole + price_decimal\n",
    "    \n",
    "    # Create date stamp \n",
    "    import datetime \n",
    "\n",
    "    today = datetime.date.today()\n",
    "    \n",
    "    # Export as csv \n",
    "    import csv \n",
    "\n",
    "    header = ['Product', 'Price', 'Date']\n",
    "    data = [title, price, today]\n",
    "    \n",
    "    # Append data to csv \n",
    "    with open('AmazonDataset.csv', 'a+', newline = '', encoding = 'UTF8') as f:\n",
    "        writer = csv.writer(f)\n",
    "        writer.writerow(data)\n",
    "        \n",
    "    # Send email at price drop \n",
    "    if (price < 100):\n",
    "        send_mail()\n"
   ]
  },
  {
   "cell_type": "code",
   "execution_count": null,
   "id": "ec05a5f1",
   "metadata": {},
   "outputs": [],
   "source": [
    "# Timer to check price at set intervals \n",
    "\n",
    "while(True):\n",
    "    check_price()\n",
    "    # time in seconds \n",
    "    time.sleep(5)\n",
    "    "
   ]
  },
  {
   "cell_type": "code",
   "execution_count": null,
   "id": "8a671fa8",
   "metadata": {},
   "outputs": [],
   "source": [
    "# Create and visualize dataframe \n",
    "\n",
    "import pandas as pd\n",
    "\n",
    "df = pd.read_csv(r'/Users/sebas/Desktop/programs/web_scrapping/Amazon_WebScrapper/AmazonDataset.csv')\n",
    "\n",
    "print(df)\n"
   ]
  },
  {
   "cell_type": "code",
   "execution_count": null,
   "id": "5afb07b4",
   "metadata": {},
   "outputs": [],
   "source": [
    "# Send mail \n",
    "\n",
    "def send_mail():\n",
    "    server = smtplib.SMTP_SSL('smtp.gmail.com',465)\n",
    "    server.ehlo()\n",
    "    #server.starttls()\n",
    "    server.ehlo()\n",
    "    # Add email and password\n",
    "    server.login('sebastianquirajus@gmail.com','xxxxxxxxxxxxxx')\n",
    "    \n",
    "    subject = \"Your product is below $100! Now is your chance to buy!\"\n",
    "    body = \"Product price drop. Link here: https://www.amazon.com.mx/Chocolate-BLANCO-PIMIENTA-barra-90grs/dp/B08CGPRP57/ref=sr_1_1_sspa?crid=2Q34VYGR1PXO9&keywords=barra+chocolate&qid=1668360973&qu=eyJxc2MiOiIzLjg3IiwicXNhIjoiMi45NSIsInFzcCI6IjAuMDAifQ%3D%3D&sprefix=%2Caps%2C128&sr=8-1-spons&sp_csd=d2lkZ2V0TmFtZT1zcF9hdGY&psc=1\"\n",
    "   \n",
    "    msg = f\"Subject: {subject}\\n\\n{body}\"\n",
    "    \n",
    "    server.sendmail(\n",
    "        'sebastianquirajus@gmail.com',\n",
    "        msg\n",
    "    )"
   ]
  }
 ],
 "metadata": {
  "kernelspec": {
   "display_name": "Python 3 (ipykernel)",
   "language": "python",
   "name": "python3"
  },
  "language_info": {
   "codemirror_mode": {
    "name": "ipython",
    "version": 3
   },
   "file_extension": ".py",
   "mimetype": "text/x-python",
   "name": "python",
   "nbconvert_exporter": "python",
   "pygments_lexer": "ipython3",
   "version": "3.9.7"
  }
 },
 "nbformat": 4,
 "nbformat_minor": 5
}
